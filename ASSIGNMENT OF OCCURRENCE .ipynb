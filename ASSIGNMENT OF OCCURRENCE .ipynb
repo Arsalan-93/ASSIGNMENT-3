{
 "cells": [
  {
   "cell_type": "markdown",
   "metadata": {},
   "source": [
    "ASSIGNMENT OF OCCURRENCE OF GIVEN NUMBER"
   ]
  },
  {
   "cell_type": "code",
   "execution_count": 3,
   "metadata": {},
   "outputs": [
    {
     "name": "stdout",
     "output_type": "stream",
     "text": [
      "Enter a Natural number ? 4\n",
      "The occurrence of number is 10\n",
      "END PROGRAM\n"
     ]
    }
   ],
   "source": [
    "natural_number = [1,1,1,1,5,5,6,8,9,7,3,9,2,7,4,4,7,9,6,4,4,3,4,4,3,4,3,3,2,4,5,5,6,7,8,9,7,6,3,6,7,8,4,6,2,4,1,2,1,1]\n",
    "number = input(\"Enter a Natural number ? \")\n",
    "x = int(number)\n",
    "occurrence = 0\n",
    "for i in natural_number :\n",
    "    if(x == i):\n",
    "        occurrence+= 1\n",
    "print(\"The occurrence of number is\",occurrence)\n",
    "print(\"END PROGRAM\")"
   ]
  },
  {
   "cell_type": "code",
   "execution_count": null,
   "metadata": {},
   "outputs": [],
   "source": []
  }
 ],
 "metadata": {
  "kernelspec": {
   "display_name": "Python 3",
   "language": "python",
   "name": "python3"
  },
  "language_info": {
   "codemirror_mode": {
    "name": "ipython",
    "version": 3
   },
   "file_extension": ".py",
   "mimetype": "text/x-python",
   "name": "python",
   "nbconvert_exporter": "python",
   "pygments_lexer": "ipython3",
   "version": "3.7.3"
  }
 },
 "nbformat": 4,
 "nbformat_minor": 2
}
