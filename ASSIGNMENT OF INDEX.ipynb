{
 "cells": [
  {
   "cell_type": "markdown",
   "metadata": {},
   "source": [
    "ASSIGNMENT OF INDEX"
   ]
  },
  {
   "cell_type": "code",
   "execution_count": 9,
   "metadata": {},
   "outputs": [
    {
     "name": "stdout",
     "output_type": "stream",
     "text": [
      "The index of karachi is : 4\n"
     ]
    }
   ],
   "source": [
    "city = [\"Lahore\",\"Islamabad\",\"Hyderabad\",\"Faisalabad\",\"karachi\",\"Multan\"]\n",
    "index = \"Not present\"\n",
    "for i in range(0,len(city)):\n",
    "    if(city[i] == \"karachi\"):\n",
    "        index = i\n",
    "print(\"The index of karachi is :\",index)"
   ]
  }
 ],
 "metadata": {
  "kernelspec": {
   "display_name": "Python 3",
   "language": "python",
   "name": "python3"
  },
  "language_info": {
   "codemirror_mode": {
    "name": "ipython",
    "version": 3
   },
   "file_extension": ".py",
   "mimetype": "text/x-python",
   "name": "python",
   "nbconvert_exporter": "python",
   "pygments_lexer": "ipython3",
   "version": "3.7.3"
  }
 },
 "nbformat": 4,
 "nbformat_minor": 2
}
