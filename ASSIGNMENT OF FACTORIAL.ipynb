{
 "cells": [
  {
   "cell_type": "markdown",
   "metadata": {},
   "source": [
    "ASSIGNMENT OF FACTORIAL"
   ]
  },
  {
   "cell_type": "code",
   "execution_count": 1,
   "metadata": {},
   "outputs": [
    {
     "name": "stdout",
     "output_type": "stream",
     "text": [
      "ENTER A NATURAL NUMBER?  4\n",
      "The factorial of 4 is 24\n",
      "END PROGRAM\n"
     ]
    }
   ],
   "source": [
    "number = input (\"ENTER A NATURAL NUMBER?  \")\n",
    "num = int (number)\n",
    "result = 1\n",
    "for i in range(num,0,-1):\n",
    "    result = result*i\n",
    "print (\"The factorial of\",num,\"is\",result)\n",
    "print(\"END PROGRAM\")\n"
   ]
  },
  {
   "cell_type": "code",
   "execution_count": null,
   "metadata": {},
   "outputs": [],
   "source": []
  }
 ],
 "metadata": {
  "kernelspec": {
   "display_name": "Python 3",
   "language": "python",
   "name": "python3"
  },
  "language_info": {
   "codemirror_mode": {
    "name": "ipython",
    "version": 3
   },
   "file_extension": ".py",
   "mimetype": "text/x-python",
   "name": "python",
   "nbconvert_exporter": "python",
   "pygments_lexer": "ipython3",
   "version": "3.7.3"
  }
 },
 "nbformat": 4,
 "nbformat_minor": 2
}
