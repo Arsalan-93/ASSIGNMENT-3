{
 "cells": [
  {
   "cell_type": "markdown",
   "metadata": {},
   "source": [
    "ASSIGNMENT OF INVITATION"
   ]
  },
  {
   "cell_type": "markdown",
   "metadata": {},
   "source": [
    "FIRST PART"
   ]
  },
  {
   "cell_type": "code",
   "execution_count": 3,
   "metadata": {},
   "outputs": [
    {
     "name": "stdout",
     "output_type": "stream",
     "text": [
      "Guest number :  1\n",
      "Enter the name of the guest : ali\n",
      "Guest number :  2\n",
      "Enter the name of the guest : arsalan\n",
      "Guest number :  3\n",
      "Enter the name of the guest : haris\n",
      "Hello ali You have been invited for the dinner\n",
      "Hello arsalan You have been invited for the dinner\n",
      "Hello haris You have been invited for the dinner\n",
      "Enter the name of who couldn't come : arsalan\n",
      "arsalan Couldn't come to the dinner\n"
     ]
    }
   ],
   "source": [
    "Invitation = []\n",
    "for i in range(3):\n",
    "    print(\"Guest number : \" , i + 1)\n",
    "    Invitation.append(input(\"Enter the name of the guest : \"))\n",
    "for i in Invitation:\n",
    "    print(\"Hello\" , i, \"You have been invited for the dinner\")\n",
    "not_coming = input(\"Enter the name of who couldn't come : \")\n",
    "print(not_coming , \"Couldn't come to the dinner\")\n"
   ]
  },
  {
   "cell_type": "markdown",
   "metadata": {},
   "source": [
    "SECOND PART"
   ]
  },
  {
   "cell_type": "code",
   "execution_count": 5,
   "metadata": {},
   "outputs": [
    {
     "name": "stdout",
     "output_type": "stream",
     "text": [
      "new guest : subhan\n",
      "Hello ali You have been invited to the dinner\n",
      "Hello subhan You have been invited to the dinner\n",
      "Hello haris You have been invited to the dinner\n",
      "Just found a bigger dinner table\n"
     ]
    }
   ],
   "source": [
    "for i in range(0,len(Invitation)):\n",
    "        if(Invitation[i] == not_coming):\n",
    "            Invitation[i] = input(\"new guest : \")\n",
    "for i in Invitation:\n",
    "    print(\"Hello\", i ,\"You have been invited to the dinner\")\n",
    "\n"
   ]
  },
  {
   "cell_type": "markdown",
   "metadata": {},
   "source": [
    "THIRD PART"
   ]
  },
  {
   "cell_type": "code",
   "execution_count": 8,
   "metadata": {},
   "outputs": [
    {
     "name": "stdout",
     "output_type": "stream",
     "text": [
      "Just found a bigger dinner table\n",
      "guest to add in the beggining :USMAN\n",
      "guest to add in the middle :KAZI\n",
      "guest to add in the end :REHMAN\n",
      "['USMAN', 'GHAZANFAR', 'KAZI', 'subhan', 'OSAMA', 'ali', 'rizwan', 'subhan', 'haris', 'kazim', 'SHOAIB', 'REHMAN']\n",
      "Hi USMAN You have been invited for the dinner\n",
      "Hi GHAZANFAR You have been invited for the dinner\n",
      "Hi KAZI You have been invited for the dinner\n",
      "Hi subhan You have been invited for the dinner\n",
      "Hi OSAMA You have been invited for the dinner\n",
      "Hi ali You have been invited for the dinner\n",
      "Hi rizwan You have been invited for the dinner\n",
      "Hi subhan You have been invited for the dinner\n",
      "Hi haris You have been invited for the dinner\n",
      "Hi kazim You have been invited for the dinner\n",
      "Hi SHOAIB You have been invited for the dinner\n",
      "Hi REHMAN You have been invited for the dinner\n",
      "END PROGRAM\n"
     ]
    }
   ],
   "source": [
    "print(\"Just found a bigger dinner table\")\n",
    "guest = input(\"guest to add in the beggining :\")\n",
    "if guest :\n",
    "    Invitation.insert(0,guest)\n",
    "guest = input(\"guest to add in the middle :\")\n",
    "if guest :\n",
    "    Invitation.insert(2,guest)\n",
    "guest = input(\"guest to add in the end :\")\n",
    "if guest :\n",
    "    Invitation.append(guest)\n",
    "print(Invitation)\n",
    "for i in Invitation:\n",
    "    print('Hi', i , \"You have been invited for the dinner\")\n",
    "print(\"END PROGRAM\")"
   ]
  },
  {
   "cell_type": "code",
   "execution_count": null,
   "metadata": {},
   "outputs": [],
   "source": []
  }
 ],
 "metadata": {
  "kernelspec": {
   "display_name": "Python 3",
   "language": "python",
   "name": "python3"
  },
  "language_info": {
   "codemirror_mode": {
    "name": "ipython",
    "version": 3
   },
   "file_extension": ".py",
   "mimetype": "text/x-python",
   "name": "python",
   "nbconvert_exporter": "python",
   "pygments_lexer": "ipython3",
   "version": "3.7.3"
  }
 },
 "nbformat": 4,
 "nbformat_minor": 2
}
