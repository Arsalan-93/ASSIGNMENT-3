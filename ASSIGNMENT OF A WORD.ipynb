{
 "cells": [
  {
   "cell_type": "markdown",
   "metadata": {},
   "source": [
    "ASSIGNMENT OF OCCURRENCE OF A WORD IN A LINE"
   ]
  },
  {
   "cell_type": "code",
   "execution_count": 8,
   "metadata": {},
   "outputs": [
    {
     "name": "stdout",
     "output_type": "stream",
     "text": [
      "The list is ['Sura', 'Sura', 'Sura']\n",
      "The word sura occur in the line  3\n",
      "END PROGRAM\n"
     ]
    }
   ],
   "source": [
    "line = \"Sura I Who believe in the Unseen, Sura Are steadfast in prayer, And spend Sura out of what We Have provided for them;\"\n",
    "line = line.split(\" \")\n",
    "list = []\n",
    "for i in line:\n",
    "    if(i == \"Sura\"):\n",
    "        list.append(\"Sura\")\n",
    "print(\"The list is\",list)\n",
    "print(\"The word sura occur in the line \",len(list))\n",
    "print(\"END PROGRAM\")\n",
    "        "
   ]
  },
  {
   "cell_type": "code",
   "execution_count": null,
   "metadata": {},
   "outputs": [],
   "source": []
  }
 ],
 "metadata": {
  "kernelspec": {
   "display_name": "Python 3",
   "language": "python",
   "name": "python3"
  },
  "language_info": {
   "codemirror_mode": {
    "name": "ipython",
    "version": 3
   },
   "file_extension": ".py",
   "mimetype": "text/x-python",
   "name": "python",
   "nbconvert_exporter": "python",
   "pygments_lexer": "ipython3",
   "version": "3.7.3"
  }
 },
 "nbformat": 4,
 "nbformat_minor": 2
}
